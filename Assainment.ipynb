{
 "cells": [
  {
   "cell_type": "markdown",
   "id": "71df5752-2de4-4a0e-9133-5ade42fe81e3",
   "metadata": {
    "tags": []
   },
   "source": [
    "a = [1,2,3],('m','n','r','t','t','e'),7.9,\"Mahesh\""
   ]
  },
  {
   "cell_type": "code",
   "execution_count": 161,
   "id": "abbac31a-1223-4826-bfc6-9e01c0eca336",
   "metadata": {},
   "outputs": [
    {
     "data": {
      "text/plain": [
       "([1, 2, 3], ('m', 'n', 'r', 't', 't', 'e'), 7.9, 'Mahesh')"
      ]
     },
     "execution_count": 161,
     "metadata": {},
     "output_type": "execute_result"
    }
   ],
   "source": [
    "a"
   ]
  },
  {
   "cell_type": "code",
   "execution_count": 68,
   "id": "e2ff2b73-d54b-4641-b108-600b787bbd57",
   "metadata": {},
   "outputs": [],
   "source": [
    "var1 = 'a'"
   ]
  },
  {
   "cell_type": "code",
   "execution_count": 37,
   "id": "7117369e-9b96-403e-b3d0-27fa7956a2fe",
   "metadata": {},
   "outputs": [
    {
     "data": {
      "text/plain": [
       "str"
      ]
     },
     "execution_count": 37,
     "metadata": {},
     "output_type": "execute_result"
    }
   ],
   "source": [
    "type(var1)"
   ]
  },
  {
   "cell_type": "code",
   "execution_count": 29,
   "id": "b335261b-b3e6-45a1-b940-4605b74ffdd9",
   "metadata": {},
   "outputs": [],
   "source": [
    "var2 = '[DS,ML,Python]'"
   ]
  },
  {
   "cell_type": "code",
   "execution_count": 31,
   "id": "afa28735-aa78-4acd-8bb4-d504ef7ca269",
   "metadata": {},
   "outputs": [
    {
     "data": {
      "text/plain": [
       "str"
      ]
     },
     "execution_count": 31,
     "metadata": {},
     "output_type": "execute_result"
    }
   ],
   "source": [
    "type(var2)"
   ]
  },
  {
   "cell_type": "code",
   "execution_count": 33,
   "id": "e7405f89-1829-4d91-a766-6e06d8e59690",
   "metadata": {},
   "outputs": [],
   "source": [
    "var3 = ['DS','ML','Python']"
   ]
  },
  {
   "cell_type": "code",
   "execution_count": 43,
   "id": "51cb7fae-fc26-409a-9c5a-9e76a02def8a",
   "metadata": {},
   "outputs": [
    {
     "data": {
      "text/plain": [
       "list"
      ]
     },
     "execution_count": 43,
     "metadata": {},
     "output_type": "execute_result"
    }
   ],
   "source": [
    "type(var3)"
   ]
  },
  {
   "cell_type": "code",
   "execution_count": 44,
   "id": "17e3b99f-2f4c-41a8-baf2-b76bde67df82",
   "metadata": {},
   "outputs": [],
   "source": [
    "var4 = 1"
   ]
  },
  {
   "cell_type": "code",
   "execution_count": 162,
   "id": "cb887d76-fd82-4caf-a109-944e3581c1c1",
   "metadata": {},
   "outputs": [
    {
     "data": {
      "text/plain": [
       "int"
      ]
     },
     "execution_count": 162,
     "metadata": {},
     "output_type": "execute_result"
    }
   ],
   "source": [
    "type(var4)"
   ]
  },
  {
   "cell_type": "code",
   "execution_count": 166,
   "id": "b88d1a6d-857d-478c-adc8-617389a5983f",
   "metadata": {},
   "outputs": [
    {
     "data": {
      "text/plain": [
       "1.0"
      ]
     },
     "execution_count": 166,
     "metadata": {},
     "output_type": "execute_result"
    }
   ],
   "source": [
    "5/5\n",
    "#/-Which is used to divide a number"
   ]
  },
  {
   "cell_type": "code",
   "execution_count": 169,
   "id": "5f109770-224a-4db7-a175-36b51d04722d",
   "metadata": {},
   "outputs": [
    {
     "data": {
      "text/plain": [
       "0"
      ]
     },
     "execution_count": 169,
     "metadata": {},
     "output_type": "execute_result"
    }
   ],
   "source": [
    "2%2\n",
    "#%-Which is used to find the remainder "
   ]
  },
  {
   "cell_type": "code",
   "execution_count": 171,
   "id": "4db6ee45-8c86-4c14-a611-5f11b515e580",
   "metadata": {},
   "outputs": [
    {
     "data": {
      "text/plain": [
       "2"
      ]
     },
     "execution_count": 171,
     "metadata": {},
     "output_type": "execute_result"
    }
   ],
   "source": [
    "4//2\n",
    "#//-Which is also for divison"
   ]
  },
  {
   "cell_type": "code",
   "execution_count": 173,
   "id": "dce15b4e-ae0a-4e10-8edd-f91052897a46",
   "metadata": {},
   "outputs": [
    {
     "data": {
      "text/plain": [
       "16"
      ]
     },
     "execution_count": 173,
     "metadata": {},
     "output_type": "execute_result"
    }
   ],
   "source": [
    "4**2\n",
    "#**-Which is used for multiplication"
   ]
  },
  {
   "cell_type": "code",
   "execution_count": 235,
   "id": "31944ed1-936b-497c-9cb9-10d795ffe63d",
   "metadata": {},
   "outputs": [],
   "source": [
    "l = [1,2,78,\"Mahesh\",5.66844,'a',True,4+8j,3.3,7.7]"
   ]
  },
  {
   "cell_type": "code",
   "execution_count": 236,
   "id": "9d6d904c-637c-4c9d-ae10-a46c1c2aeae6",
   "metadata": {},
   "outputs": [
    {
     "data": {
      "text/plain": [
       "[1, 2, 78, 'Mahesh', 5.66844, 'a', True, (4+8j), 3.3, 7.7]"
      ]
     },
     "execution_count": 236,
     "metadata": {},
     "output_type": "execute_result"
    }
   ],
   "source": [
    "l"
   ]
  },
  {
   "cell_type": "code",
   "execution_count": 239,
   "id": "b463220b-929f-467d-9d72-1488f8852c5c",
   "metadata": {},
   "outputs": [
    {
     "name": "stdout",
     "output_type": "stream",
     "text": [
      "1\n",
      "2\n",
      "78\n",
      "Mahesh\n",
      "5.66844\n",
      "a\n",
      "True\n",
      "(4+8j)\n",
      "3.3\n",
      "7.7\n"
     ]
    }
   ],
   "source": [
    "for i in l:\n",
    "    print(i)"
   ]
  },
  {
   "cell_type": "code",
   "execution_count": 241,
   "id": "f56c641c-db7f-42c5-94e8-026558e9fea3",
   "metadata": {},
   "outputs": [
    {
     "name": "stdout",
     "output_type": "stream",
     "text": [
      "<class 'int'>\n",
      "<class 'int'>\n",
      "<class 'int'>\n",
      "<class 'str'>\n",
      "<class 'float'>\n",
      "<class 'str'>\n",
      "<class 'bool'>\n",
      "<class 'complex'>\n",
      "<class 'float'>\n",
      "<class 'float'>\n"
     ]
    }
   ],
   "source": [
    "for i in l:\n",
    "    print(type(i))"
   ]
  },
  {
   "cell_type": "code",
   "execution_count": null,
   "id": "894a3dcc-2444-424f-8b0c-5c1796e34fc9",
   "metadata": {},
   "outputs": [],
   "source": [
    "l = [1,2,3,4,5,6,7,8,9,10,11,12,13,14,15,16,17,18,191,2,3,4,5,6,7,8,9,10,11,12,13,14,15,16,17,18,19,20,21,22,23,24,25,20,21,22,23,24,25]"
   ]
  },
  {
   "cell_type": "code",
   "execution_count": 11,
   "id": "ed21858c-0b60-47dd-b93d-0377d2dea51b",
   "metadata": {},
   "outputs": [
    {
     "ename": "NameError",
     "evalue": "name 'l' is not defined",
     "output_type": "error",
     "traceback": [
      "\u001b[0;31m---------------------------------------------------------------------------\u001b[0m",
      "\u001b[0;31mNameError\u001b[0m                                 Traceback (most recent call last)",
      "Cell \u001b[0;32mIn[11], line 1\u001b[0m\n\u001b[0;32m----> 1\u001b[0m \u001b[38;5;28;01mfor\u001b[39;00m i \u001b[38;5;129;01min\u001b[39;00m \u001b[43ml\u001b[49m:\n\u001b[1;32m      2\u001b[0m     a\u001b[38;5;241m=\u001b[39mi\u001b[38;5;241m/\u001b[39m\u001b[38;5;241m3\u001b[39m\n\u001b[1;32m      3\u001b[0m     \u001b[38;5;28mprint\u001b[39m(a)\n",
      "\u001b[0;31mNameError\u001b[0m: name 'l' is not defined"
     ]
    }
   ],
   "source": [
    "#please explain this question crreate a list 25int type data. using for loop and if-else condition print if the element is divisible by 3 or not.\n",
    "for i in l:\n",
    "    a=i/3\n",
    "    print(a)"
   ]
  },
  {
   "cell_type": "code",
   "execution_count": 14,
   "id": "71499594-ecfc-4059-a752-db08d41e63a0",
   "metadata": {},
   "outputs": [
    {
     "name": "stdout",
     "output_type": "stream",
     "text": [
      "3\n"
     ]
    }
   ],
   "source": [
    "n = 6\n",
    "i = 3\n",
    "while i/n:\n",
    "        print(i)\n",
    "        i=i/3\n",
    "        break;"
   ]
  },
  {
   "cell_type": "code",
   "execution_count": 53,
   "id": "360b7699-f870-428d-afb7-d157ea9cd74a",
   "metadata": {},
   "outputs": [],
   "source": [
    "#\"Mutable\":Mutability which changes the place o list\n",
    "#\"Immutable\":Immutability you are not able to change the place of a list\"String\" is immutable object"
   ]
  },
  {
   "cell_type": "code",
   "execution_count": 54,
   "id": "1a4dcd83-5edc-4dfe-b5a2-14ba7391c04b",
   "metadata": {},
   "outputs": [],
   "source": [
    "l = [1,2,3,4]"
   ]
  },
  {
   "cell_type": "code",
   "execution_count": 55,
   "id": "670639b8-3774-434c-8439-fea6c085adb2",
   "metadata": {},
   "outputs": [],
   "source": [
    "l[2] = 50"
   ]
  },
  {
   "cell_type": "code",
   "execution_count": 57,
   "id": "5957c380-539c-4675-8d61-113d41d9a910",
   "metadata": {},
   "outputs": [
    {
     "data": {
      "text/plain": [
       "[1, 2, 50, 4]"
      ]
     },
     "execution_count": 57,
     "metadata": {},
     "output_type": "execute_result"
    }
   ],
   "source": [
    "l"
   ]
  },
  {
   "cell_type": "code",
   "execution_count": 59,
   "id": "3dc7e692-433e-407e-b797-e3ca55188343",
   "metadata": {},
   "outputs": [],
   "source": [
    "l[3] = 'q'"
   ]
  },
  {
   "cell_type": "code",
   "execution_count": 60,
   "id": "73eb23dc-e247-4ee6-a5bb-7773a9d643b5",
   "metadata": {},
   "outputs": [
    {
     "data": {
      "text/plain": [
       "[1, 2, 50, 'q']"
      ]
     },
     "execution_count": 60,
     "metadata": {},
     "output_type": "execute_result"
    }
   ],
   "source": [
    "l"
   ]
  }
 ],
 "metadata": {
  "kernelspec": {
   "display_name": "Python 3 (ipykernel)",
   "language": "python",
   "name": "python3"
  },
  "language_info": {
   "codemirror_mode": {
    "name": "ipython",
    "version": 3
   },
   "file_extension": ".py",
   "mimetype": "text/x-python",
   "name": "python",
   "nbconvert_exporter": "python",
   "pygments_lexer": "ipython3",
   "version": "3.10.8"
  }
 },
 "nbformat": 4,
 "nbformat_minor": 5
}
